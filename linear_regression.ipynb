{
  "nbformat": 4,
  "nbformat_minor": 0,
  "metadata": {
    "colab": {
      "provenance": [],
      "include_colab_link": true
    },
    "kernelspec": {
      "name": "python3",
      "display_name": "Python 3"
    },
    "language_info": {
      "name": "python"
    }
  },
  "cells": [
    {
      "cell_type": "markdown",
      "metadata": {
        "id": "view-in-github",
        "colab_type": "text"
      },
      "source": [
        "<a href=\"https://colab.research.google.com/github/ShuimuZeng/Machine-learning/blob/main/linear_regression.ipynb\" target=\"_parent\"><img src=\"https://colab.research.google.com/assets/colab-badge.svg\" alt=\"Open In Colab\"/></a>"
      ]
    },
    {
      "cell_type": "code",
      "execution_count": null,
      "metadata": {
        "id": "DIVJ202W5W73"
      },
      "outputs": [],
      "source": [
        "import numpy as np"
      ]
    },
    {
      "cell_type": "code",
      "source": [
        "def loss_function(y_real,y_pred):\n",
        "  loss = 1/2*(y_real-y_pred)**2\n",
        "  return loss"
      ],
      "metadata": {
        "id": "MYDzaMcYH4OC"
      },
      "execution_count": null,
      "outputs": []
    },
    {
      "cell_type": "markdown",
      "source": [
        "(y_real-y_pred)(y_real-y_pred)'-->(y_real-y_pred)*(-x)\n",
        "-1(y_pred)'--> (wx+b)'--> -1(x)"
      ],
      "metadata": {
        "id": "y2sMS6xVLIPc"
      }
    },
    {
      "cell_type": "code",
      "source": [
        "# loss_function(np.array([1,2,3]),np.array([1,2,2]))\n",
        "loss_function(1.45,2.01)"
      ],
      "metadata": {
        "colab": {
          "base_uri": "https://localhost:8080/"
        },
        "id": "qv2-8nhYH7zS",
        "outputId": "939695ac-0b67-47f9-9328-728140441aee"
      },
      "execution_count": null,
      "outputs": [
        {
          "output_type": "execute_result",
          "data": {
            "text/plain": [
              "0.1567999999999999"
            ]
          },
          "metadata": {},
          "execution_count": 85
        }
      ]
    },
    {
      "cell_type": "code",
      "source": [
        "# w = np.array([1,1.1,1.05])\n",
        "def initialisation():\n",
        "  w = np.random.rand(3)\n",
        "  b = np.random.rand(1)\n",
        "  lr = 0.0005\n",
        "  return w,b,lr"
      ],
      "metadata": {
        "id": "MqQzbl-gJOqk"
      },
      "execution_count": null,
      "outputs": []
    },
    {
      "cell_type": "code",
      "source": [
        "# def multivariable_init():\n",
        "\n",
        "#   return 0"
      ],
      "metadata": {
        "id": "rWDD7NnjviKi"
      },
      "execution_count": null,
      "outputs": []
    },
    {
      "cell_type": "code",
      "source": [
        "# b = 1.05"
      ],
      "metadata": {
        "id": "AKCQpeWPJpdO"
      },
      "execution_count": null,
      "outputs": []
    },
    {
      "cell_type": "code",
      "source": [
        "# lr = 0.0005"
      ],
      "metadata": {
        "id": "Ow1xOUprMmur"
      },
      "execution_count": null,
      "outputs": []
    },
    {
      "cell_type": "code",
      "source": [
        "# x = np.random.rand(3)\n",
        "# # x"
      ],
      "metadata": {
        "id": "5SgdC5f4JsMO"
      },
      "execution_count": null,
      "outputs": []
    },
    {
      "cell_type": "code",
      "source": [
        "def predict(w,x,b):\n",
        " y_pred = np.dot(w,x)+b\n",
        " return y_pred"
      ],
      "metadata": {
        "id": "4Ivhk_CjJk0J"
      },
      "execution_count": null,
      "outputs": []
    },
    {
      "cell_type": "code",
      "source": [
        "def gradiant_descendent(y_real,y_pred,w,x,b,lr):\n",
        "  delta_w_array = np.zeros(3)\n",
        "  for i in range(len(w)):\n",
        "    delta_w_array[i]=(y_real-y_pred)*(-x[i])\n",
        "  max_index = np.argmax(delta_w_array)\n",
        "  delta_w = (y_real-y_pred)*(-x)\n",
        "  delta_b = (y_real-y_pred)*(-1)\n",
        "  #w = w - lr*delta_w\n",
        "  w[max_index] = w[max_index] - lr*delta_w_array[max_index]\n",
        "  b = b - lr*delta_b\n",
        "  return delta_w,delta_b,w,b"
      ],
      "metadata": {
        "id": "dcF5ValUI_b8"
      },
      "execution_count": null,
      "outputs": []
    },
    {
      "cell_type": "code",
      "source": [
        "def prepare_small_dataset():\n",
        "  X = []\n",
        "  for i in range(10):\n",
        "    X.append(np.random.rand(3))\n",
        "  y = np.random.rand(10)\n",
        "  return X,y"
      ],
      "metadata": {
        "id": "gbDd6XErMlOk"
      },
      "execution_count": null,
      "outputs": []
    },
    {
      "cell_type": "code",
      "source": [
        "prepare_small_dataset()"
      ],
      "metadata": {
        "colab": {
          "base_uri": "https://localhost:8080/"
        },
        "id": "MPkemrdcNRZM",
        "outputId": "020b08f9-7517-4910-dbc2-a68bc94e5144"
      },
      "execution_count": null,
      "outputs": [
        {
          "output_type": "execute_result",
          "data": {
            "text/plain": [
              "([array([0.38180832, 0.12960522, 0.42697939]),\n",
              "  array([0.51647785, 0.79397123, 0.51261413]),\n",
              "  array([0.95765924, 0.47975415, 0.60417215]),\n",
              "  array([0.61396447, 0.27055192, 0.16853384]),\n",
              "  array([0.02977036, 0.16189455, 0.58602637]),\n",
              "  array([0.69462718, 0.74851085, 0.37653256]),\n",
              "  array([0.52213283, 0.4875913 , 0.39597164]),\n",
              "  array([0.33102335, 0.12302314, 0.78426057]),\n",
              "  array([0.10784898, 0.9967045 , 0.66700721]),\n",
              "  array([0.60809775, 0.52673686, 0.58082385])],\n",
              " array([0.24889441, 0.65417671, 0.17782332, 0.58717049, 0.62456095,\n",
              "        0.28304899, 0.32983597, 0.9923912 , 0.91859148, 0.96084176]))"
            ]
          },
          "metadata": {},
          "execution_count": 90
        }
      ]
    },
    {
      "cell_type": "code",
      "source": [
        "def train(epoch):\n",
        "  X,y = prepare_small_dataset()\n",
        "  w,b,lr = initialisation()\n",
        "  for i in range(epoch):\n",
        "    for j in range(len(X)):\n",
        "      y_pred = predict(w,X[j],b)\n",
        "      # print(y_pred.shape)\n",
        "      delta_w,delta_b,w,b = gradiant_descendent(y[j],y_pred,w,X[j],b,lr)\n",
        "  return w,b"
      ],
      "metadata": {
        "id": "Xo9tqVauONqs"
      },
      "execution_count": null,
      "outputs": []
    },
    {
      "cell_type": "code",
      "source": [
        "epoch_1 = 10\n",
        "w_10,b_10 = train(epoch_1)\n",
        "print(w_10,b_10)\n",
        "epoch_2 = 10000\n",
        "w_100,b_100 = train(epoch_2)\n",
        "w_100,b_100"
      ],
      "metadata": {
        "colab": {
          "base_uri": "https://localhost:8080/"
        },
        "id": "Z4tuz3BxOvs0",
        "outputId": "0d5c909a-4e99-41ac-fc92-3a9b902cd206"
      },
      "execution_count": null,
      "outputs": [
        {
          "output_type": "stream",
          "name": "stderr",
          "text": [
            "<ipython-input-88-c2a7e76c3173>:4: DeprecationWarning: Conversion of an array with ndim > 0 to a scalar is deprecated, and will error in future. Ensure you extract a single element from your array before performing this operation. (Deprecated NumPy 1.25.)\n",
            "  delta_w_array[i]=(y_real-y_pred)*(-x[i])\n"
          ]
        },
        {
          "output_type": "stream",
          "name": "stdout",
          "text": [
            "[0.37737709 0.95736184 0.44482069] [0.84655273]\n"
          ]
        },
        {
          "output_type": "execute_result",
          "data": {
            "text/plain": [
              "(array([ 1.79918797, -1.63382451, -1.15056643]), array([1.19336476]))"
            ]
          },
          "metadata": {},
          "execution_count": 97
        }
      ]
    },
    {
      "cell_type": "code",
      "source": [
        "w2,b2,lr = initialisation()\n",
        "w2,b2,lr\n",
        "type(w2),len(w2)"
      ],
      "metadata": {
        "colab": {
          "base_uri": "https://localhost:8080/"
        },
        "id": "yxvq9L6osyTn",
        "outputId": "09a8fbc1-7e2b-470c-86a2-2cd9146cfe90"
      },
      "execution_count": null,
      "outputs": [
        {
          "output_type": "execute_result",
          "data": {
            "text/plain": [
              "(numpy.ndarray, 3)"
            ]
          },
          "metadata": {},
          "execution_count": 93
        }
      ]
    },
    {
      "cell_type": "code",
      "source": [
        "dataset2_X,dataset2_y = prepare_small_dataset()\n",
        "len(dataset2_X[0])"
      ],
      "metadata": {
        "colab": {
          "base_uri": "https://localhost:8080/"
        },
        "id": "6EHbz9y4wlts",
        "outputId": "f9e29774-d904-44f9-f047-d7c8c1d01780"
      },
      "execution_count": null,
      "outputs": [
        {
          "output_type": "execute_result",
          "data": {
            "text/plain": [
              "3"
            ]
          },
          "metadata": {},
          "execution_count": 103
        }
      ]
    },
    {
      "cell_type": "code",
      "source": [
        "y_test_test = predict(w_100,dataset2_X[0],b_100)\n",
        "loss_test_test = loss_function(dataset2_y[0],y_test_test)\n",
        "loss_test_test"
      ],
      "metadata": {
        "colab": {
          "base_uri": "https://localhost:8080/"
        },
        "id": "6EiprKoa-Avi",
        "outputId": "463c56e9-034e-4375-c663-050b4ecf811c"
      },
      "execution_count": null,
      "outputs": [
        {
          "output_type": "execute_result",
          "data": {
            "text/plain": [
              "array([0.02685973])"
            ]
          },
          "metadata": {},
          "execution_count": 104
        }
      ]
    }
  ]
}