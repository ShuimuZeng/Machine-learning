{
  "nbformat": 4,
  "nbformat_minor": 0,
  "metadata": {
    "colab": {
      "provenance": [],
      "authorship_tag": "ABX9TyOUVwK9xqL14JRKUKJwP+Jk",
      "include_colab_link": true
    },
    "kernelspec": {
      "name": "python3",
      "display_name": "Python 3"
    },
    "language_info": {
      "name": "python"
    }
  },
  "cells": [
    {
      "cell_type": "markdown",
      "metadata": {
        "id": "view-in-github",
        "colab_type": "text"
      },
      "source": [
        "<a href=\"https://colab.research.google.com/github/ShuimuZeng/Machine-learning/blob/main/linear_regression.ipynb\" target=\"_parent\"><img src=\"https://colab.research.google.com/assets/colab-badge.svg\" alt=\"Open In Colab\"/></a>"
      ]
    },
    {
      "cell_type": "code",
      "execution_count": 1,
      "metadata": {
        "id": "DIVJ202W5W73"
      },
      "outputs": [],
      "source": [
        "import numpy as np"
      ]
    },
    {
      "cell_type": "code",
      "source": [
        "def loss_function(y_real,y_pred):\n",
        "  loss = 1/2*(y_real-y_pred)**2\n",
        "  return loss"
      ],
      "metadata": {
        "id": "MYDzaMcYH4OC"
      },
      "execution_count": 2,
      "outputs": []
    },
    {
      "cell_type": "markdown",
      "source": [
        "(y_real-y_pred)(y_real-y_pred)'-->(y_real-y_pred)*(-x)\n",
        "-1(y_pred)'--> (wx+b)'--> -1(x)"
      ],
      "metadata": {
        "id": "y2sMS6xVLIPc"
      }
    },
    {
      "cell_type": "code",
      "source": [
        "# loss_function(np.array([1,2,3]),np.array([1,2,2]))\n",
        "loss_function(1.45,2.01)"
      ],
      "metadata": {
        "colab": {
          "base_uri": "https://localhost:8080/"
        },
        "id": "qv2-8nhYH7zS",
        "outputId": "1bcdedfa-b5a1-4c9b-a388-dc909ec463d7"
      },
      "execution_count": 3,
      "outputs": [
        {
          "output_type": "execute_result",
          "data": {
            "text/plain": [
              "0.1567999999999999"
            ]
          },
          "metadata": {},
          "execution_count": 3
        }
      ]
    },
    {
      "cell_type": "code",
      "source": [
        "# w = np.array([1,1.1,1.05])\n",
        "def initialisation():\n",
        "  w = np.random.rand(3)\n",
        "  b = np.random.rand(1)\n",
        "  lr = 0.0005\n",
        "  return w,b,lr"
      ],
      "metadata": {
        "id": "MqQzbl-gJOqk"
      },
      "execution_count": 4,
      "outputs": []
    },
    {
      "cell_type": "code",
      "source": [
        "# b = 1.05"
      ],
      "metadata": {
        "id": "AKCQpeWPJpdO"
      },
      "execution_count": 5,
      "outputs": []
    },
    {
      "cell_type": "code",
      "source": [
        "# lr = 0.0005"
      ],
      "metadata": {
        "id": "Ow1xOUprMmur"
      },
      "execution_count": 6,
      "outputs": []
    },
    {
      "cell_type": "code",
      "source": [
        "# x = np.random.rand(3)\n",
        "# # x"
      ],
      "metadata": {
        "id": "5SgdC5f4JsMO"
      },
      "execution_count": 7,
      "outputs": []
    },
    {
      "cell_type": "code",
      "source": [
        "def predict(w,x,b):\n",
        " y_pred = np.dot(w,x)+b\n",
        " return y_pred"
      ],
      "metadata": {
        "id": "4Ivhk_CjJk0J"
      },
      "execution_count": 8,
      "outputs": []
    },
    {
      "cell_type": "code",
      "source": [
        "def gradiant_descendent(y_real,y_pred,w,x,b,lr):\n",
        "  delta_w = (y_real-y_pred)*(-x)\n",
        "  delta_b = (y_real-y_pred)*(-1)\n",
        "  w = w - lr*delta_w\n",
        "  b = b - lr*delta_b\n",
        "  return delta_w,delta_b,w,b"
      ],
      "metadata": {
        "id": "dcF5ValUI_b8"
      },
      "execution_count": 9,
      "outputs": []
    },
    {
      "cell_type": "code",
      "source": [
        "def prepare_small_dataset():\n",
        "  X = []\n",
        "  for i in range(10):\n",
        "    X.append(np.random.rand(3))\n",
        "  y = np.random.rand(10)\n",
        "  return X,y"
      ],
      "metadata": {
        "id": "gbDd6XErMlOk"
      },
      "execution_count": 10,
      "outputs": []
    },
    {
      "cell_type": "code",
      "source": [
        "prepare_small_dataset()"
      ],
      "metadata": {
        "colab": {
          "base_uri": "https://localhost:8080/"
        },
        "id": "MPkemrdcNRZM",
        "outputId": "54b24096-8804-4313-d98b-9b81f7b33f0a"
      },
      "execution_count": 11,
      "outputs": [
        {
          "output_type": "execute_result",
          "data": {
            "text/plain": [
              "([array([0.89572433, 0.12926523, 0.04239712]),\n",
              "  array([0.28736301, 0.86451661, 0.42369432]),\n",
              "  array([0.80571314, 0.85519791, 0.62444669]),\n",
              "  array([0.42347777, 0.44332559, 0.49053564]),\n",
              "  array([0.45268284, 0.15654547, 0.73184671]),\n",
              "  array([0.46206291, 0.21023897, 0.37726472]),\n",
              "  array([0.56124276, 0.99243536, 0.27104494]),\n",
              "  array([0.80550338, 0.66442802, 0.12660066]),\n",
              "  array([0.3675353 , 0.52229374, 0.21954669]),\n",
              "  array([0.46339518, 0.01419945, 0.48253387])],\n",
              " array([0.54849137, 0.54260441, 0.21285215, 0.95831199, 0.65601856,\n",
              "        0.26644869, 0.52711255, 0.09827421, 0.52438334, 0.60901113]))"
            ]
          },
          "metadata": {},
          "execution_count": 11
        }
      ]
    },
    {
      "cell_type": "code",
      "source": [
        "def train(epoch):\n",
        "  X,y = prepare_small_dataset()\n",
        "  w,b,lr = initialisation()\n",
        "  for i in range(epoch):\n",
        "    for j in range(len(X)):\n",
        "      y_pred = predict(w,X[j],b)\n",
        "      delta_w,delta_b,w,b = gradiant_descendent(y[j],y_pred,w,X[j],b,lr)\n",
        "  return w,b"
      ],
      "metadata": {
        "id": "Xo9tqVauONqs"
      },
      "execution_count": 13,
      "outputs": []
    },
    {
      "cell_type": "code",
      "source": [
        "epoch_1 = 10\n",
        "w_10,b_10 = train(epoch_1)\n",
        "print(w_10,b_10)\n",
        "epoch_2 = 100\n",
        "w_100,b_100 = train(epoch_2)\n",
        "w_100,b_100"
      ],
      "metadata": {
        "colab": {
          "base_uri": "https://localhost:8080/"
        },
        "id": "Z4tuz3BxOvs0",
        "outputId": "ce3ccc7d-0ce2-4815-d29e-bd33706e81e1"
      },
      "execution_count": 15,
      "outputs": [
        {
          "output_type": "stream",
          "name": "stdout",
          "text": [
            "[-0.00252499  0.25588192  0.35562993] [0.8181007]\n"
          ]
        },
        {
          "output_type": "execute_result",
          "data": {
            "text/plain": [
              "(array([0.02889451, 0.15638256, 0.43915962]), array([0.55278004]))"
            ]
          },
          "metadata": {},
          "execution_count": 15
        }
      ]
    }
  ]
}